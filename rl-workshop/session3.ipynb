{
  "cells": [
    {
      "cell_type": "markdown",
      "metadata": {
        "id": "lAow4alFja1d"
      },
      "source": [
        "# Introduction to RL and TD Learning"
      ]
    },
    {
      "cell_type": "markdown",
      "metadata": {
        "id": "uXXVQvK-1FaV"
      },
      "source": [
        "## Introduction to RL\n",
        "\n",
        "- Characteristics of RL \n",
        "- Examples of RL [here](https://gym.openai.com/envs/#atari)\n",
        "- Sequential Desicion Making\n",
        "- Agent Environment\n",
        "- State Action Reward\n",
        "- Policy Value Model "
      ]
    },
    {
      "cell_type": "markdown",
      "metadata": {
        "id": "CydwNc_Oja1g"
      },
      "source": [
        "## Colab Setup\n",
        "\n",
        "installing all our requirements for this workshop.\n"
      ]
    },
    {
      "cell_type": "code",
      "execution_count": null,
      "metadata": {
        "colab": {
          "background_save": true,
          "base_uri": "https://localhost:8080/"
        },
        "id": "TLa3wD7Rja1h",
        "outputId": "0d7309d5-2979-4e59-80ab-e868700a85ed"
      },
      "outputs": [
        {
          "name": "stdout",
          "output_type": "stream",
          "text": [
            "Cloning into 'Workshop-Spring-2022'...\n",
            "remote: Enumerating objects: 48, done.\u001b[K\n",
            "remote: Counting objects: 100% (48/48), done.\u001b[K\n",
            "remote: Compressing objects: 100% (47/47), done.\u001b[K\n",
            "remote: Total 48 (delta 0), reused 48 (delta 0), pack-reused 0\u001b[K\n",
            "Unpacking objects: 100% (48/48), done.\n",
            "img\t\t     models\tsample_data\tsolutions\n",
            "model_compile.ipynb  README.md\tsession3.ipynb\tWorkshop-Spring-2022\n",
            "Requirement already satisfied: gym in /usr/local/lib/python3.7/dist-packages (0.17.3)\n",
            "Requirement already satisfied: pyglet<=1.5.0,>=1.4.0 in /usr/local/lib/python3.7/dist-packages (from gym) (1.5.0)\n",
            "Requirement already satisfied: scipy in /usr/local/lib/python3.7/dist-packages (from gym) (1.4.1)\n",
            "Requirement already satisfied: numpy>=1.10.4 in /usr/local/lib/python3.7/dist-packages (from gym) (1.21.5)\n",
            "Requirement already satisfied: cloudpickle<1.7.0,>=1.2.0 in /usr/local/lib/python3.7/dist-packages (from gym) (1.3.0)\n",
            "Requirement already satisfied: future in /usr/local/lib/python3.7/dist-packages (from pyglet<=1.5.0,>=1.4.0->gym) (0.16.0)\n"
          ]
        }
      ],
      "source": [
        "!git clone https://github.com/vlgiitr/Workshop-Spring-2022\n",
        "!mv Workshop-Spring-2022/rl-workshop/* .\n",
        "!ls\n",
        "!pip install gym "
      ]
    },
    {
      "cell_type": "markdown",
      "metadata": {
        "id": "my9pHsKQja1j"
      },
      "source": [
        "## Imports"
      ]
    },
    {
      "cell_type": "markdown",
      "metadata": {
        "id": "uo-f92eb0oOF"
      },
      "source": [
        "In the following cell, we import all the relevant libraries a"
      ]
    },
    {
      "cell_type": "code",
      "execution_count": null,
      "metadata": {
        "colab": {
          "background_save": true
        },
        "id": "VF5Bdu_gja1k"
      },
      "outputs": [],
      "source": [
        "%matplotlib inline\n",
        "\n",
        "import gym\n",
        "import numpy as np\n",
        "from collections import defaultdict\n",
        "import matplotlib.pyplot as plt\n",
        "import pickle\n",
        "from tqdm import trange\n",
        "import seaborn as sns\n",
        "import pandas as pd\n",
        "from random import random\n",
        "from datetime import datetime\n",
        "import warnings\n",
        "warnings.filterwarnings(\"ignore\")\n",
        "\n",
        "#cross check with our solutions once you finish\n",
        "from solutions.agents import TaxiAgent, BJAgent\n",
        "\n",
        "MODEL_PATH = 'models/'"
      ]
    },
    {
      "cell_type": "markdown",
      "metadata": {
        "id": "elcSFHXPja1k"
      },
      "source": [
        "## Recap"
      ]
    },
    {
      "cell_type": "markdown",
      "metadata": {
        "id": "RVkoVuPmja1k"
      },
      "source": [
        "### Monte Carlo Methods"
      ]
    },
    {
      "cell_type": "markdown",
      "metadata": {
        "id": "sQkC4REaja1l"
      },
      "source": [
        "For an arbitrary number of episodes, do:\n",
        "* **Step 1** Run the episode until the end and get a list of transitions $[(s_0,a_0,r_1,s_1), (s_1,a_1,r_2,s_2),...]$ with a random policy\n",
        "* **Step 2** Loop through those transition tuples,\n",
        "    * **Step 2.1** Count number of times a state-action pair appears in the current episode `n_q` (only if it is the first time we saw this state-action pair)\n",
        "    * **Step 2.2** Calculate discounted rewards from the current transition until the end `g` (only if it is the first time we saw this state-action pair)\n",
        "    * **Step 2.3** Add learning rate times the difference between the discounted rewards we just calculate `g` and the existing action value `q`\n",
        "* **Step 3** Update the current policy after a few episodes or after we have trained all episodes"
      ]
    },
    {
      "cell_type": "code",
      "execution_count": null,
      "metadata": {
        "colab": {
          "background_save": true
        },
        "id": "dWtwtmZLja1l"
      },
      "outputs": [],
      "source": [
        "def mc_control_glie(self,n_episode=500000,lr=0.,update_every=1):\n",
        "    for t in trange(n_episode):\n",
        "        traversed = []\n",
        "        e = self.get_epsilon(t)\n",
        "        \n",
        "        #step 1\n",
        "        transitions = self.run_episode(e)\n",
        "        states,actions,rewards,next_states,dones = zip(*transitions)\n",
        "\n",
        "        #step 2\n",
        "        for i in range(len(transitions)):\n",
        "            traversed.append((states[i],actions[i]))\n",
        "            #step 2.1\n",
        "            self.n_q[states[i]][actions[i]]+=1\n",
        "            #step 2.2\n",
        "            discounts = np.array([self.gamma**j for j in range(len(transitions)+1)])\n",
        "            g = sum(rewards[i:]*discounts[:-(1+i)])\n",
        "            #step 2.3\n",
        "            alpha = lr if lr > 0 else (1/self.n_q[states[i]][actions[i]])\n",
        "            self.q[states[i]][actions[i]]+= alpha * (g - self.q[states[i]][actions[i]])\n",
        "\n",
        "        #step 3\n",
        "        if t % int(update_every * n_episode - 1)==0:\n",
        "            self.update_policy_q()\n",
        "\n",
        "    self.update_policy_q()"
      ]
    },
    {
      "cell_type": "markdown",
      "metadata": {
        "id": "PAejte-Aja1n"
      },
      "source": [
        "## What Can We Improve About Monte Carlo: Temporal Difference Learning"
      ]
    },
    {
      "cell_type": "markdown",
      "metadata": {
        "id": "6yT3-BB5ja1o"
      },
      "source": [
        "Temporal difference (TD) learning is another value-based method for solving a reinforcement learning problem. Main differences between this and the Monte Carlo method we learned are that:\n",
        "\n",
        "* TD updates the Q-values at every time step; we do not need to run an entire episode beforehand\n",
        "* TD updates the policy at every timestep\n",
        "\n",
        "That is probably why it is called **temporal difference** learning."
      ]
    },
    {
      "cell_type": "markdown",
      "metadata": {
        "id": "edrRpeOjja1o"
      },
      "source": [
        "## [Taxi-v2](https://github.com/openai/gym/blob/master/gym/envs/toy_text/taxi.py)"
      ]
    },
    {
      "cell_type": "markdown",
      "metadata": {
        "id": "U5tJbFQIja1p"
      },
      "source": [
        "Taxi-v2 is a reinforcment learning environment described in [Dietterich (2000)](https://arxiv.org/abs/cs/9905014) to demonstrate some issues with hierarchical reinforcement learning. The environment features a 5x5 grid with four locations denoted as red, blue, green and yellow. Our agent is a taxi started at any random position. The goal of the environment is to go pick up a passenger at an arbitrary location then send them to their destination as fast as possible."
      ]
    },
    {
      "cell_type": "code",
      "execution_count": null,
      "metadata": {
        "id": "IczRqSFSja1p"
      },
      "outputs": [],
      "source": [
        "env = gym.make('Taxi-v3')"
      ]
    },
    {
      "cell_type": "code",
      "execution_count": null,
      "metadata": {
        "colab": {
          "base_uri": "https://localhost:8080/"
        },
        "id": "h98lDwaGja1q",
        "outputId": "20d70eb8-8d8e-4ce9-c884-b87b8ca2cb7b"
      },
      "outputs": [
        {
          "output_type": "execute_result",
          "data": {
            "text/plain": [
              "63"
            ]
          },
          "metadata": {},
          "execution_count": 4
        }
      ],
      "source": [
        "env.reset() # reset the environment and return the current state"
      ]
    },
    {
      "cell_type": "markdown",
      "metadata": {
        "id": "BW-qBwXZja1r"
      },
      "source": [
        "### Observation Space (State Space)"
      ]
    },
    {
      "cell_type": "markdown",
      "metadata": {
        "id": "-18OWfnqja1s"
      },
      "source": [
        "The state is a single integer from 0 to 499. This is a result of all combinations of:\n",
        "* 25 taxi positions\n",
        "* 5 possible locations of the passenger (including the case when the passenger is the taxi)\n",
        "* 4 destination locations. \n",
        "    "
      ]
    },
    {
      "cell_type": "code",
      "execution_count": null,
      "metadata": {
        "colab": {
          "base_uri": "https://localhost:8080/"
        },
        "id": "SXuuYyCvja1s",
        "outputId": "c12ae773-ae31-4027-d1d8-aad11e1e2210"
      },
      "outputs": [
        {
          "output_type": "execute_result",
          "data": {
            "text/plain": [
              "Discrete(500)"
            ]
          },
          "metadata": {},
          "execution_count": 5
        }
      ],
      "source": [
        "env.observation_space"
      ]
    },
    {
      "cell_type": "code",
      "execution_count": null,
      "metadata": {
        "colab": {
          "base_uri": "https://localhost:8080/"
        },
        "id": "QcDhHFOUja1t",
        "outputId": "5420b7e0-c2a4-44b4-ca6f-e99923c53782"
      },
      "outputs": [
        {
          "output_type": "execute_result",
          "data": {
            "text/plain": [
              "491"
            ]
          },
          "metadata": {},
          "execution_count": 6
        }
      ],
      "source": [
        "env.reset()"
      ]
    },
    {
      "cell_type": "markdown",
      "metadata": {
        "id": "YpYBVZO_ja1t"
      },
      "source": [
        "### Action Space"
      ]
    },
    {
      "cell_type": "markdown",
      "metadata": {
        "id": "Ga0HV1U3ja1u"
      },
      "source": [
        "There are 6 discrete deterministic actions:\n",
        "- 0: move south\n",
        "- 1: move north\n",
        "- 2: move east \n",
        "- 3: move west \n",
        "- 4: pickup passenger\n",
        "- 5: dropoff passenger"
      ]
    },
    {
      "cell_type": "code",
      "execution_count": null,
      "metadata": {
        "colab": {
          "base_uri": "https://localhost:8080/"
        },
        "id": "FrskA_A1ja1u",
        "outputId": "9ca8de7b-a0cb-4785-fd80-90f7bb081a25"
      },
      "outputs": [
        {
          "output_type": "execute_result",
          "data": {
            "text/plain": [
              "Discrete(6)"
            ]
          },
          "metadata": {},
          "execution_count": 7
        }
      ],
      "source": [
        "env.action_space"
      ]
    },
    {
      "cell_type": "markdown",
      "metadata": {
        "id": "VMiX70mHja1u"
      },
      "source": [
        "### Reward"
      ]
    },
    {
      "cell_type": "markdown",
      "metadata": {
        "id": "09-Y_XFdja1v"
      },
      "source": [
        "* -1 for each action; to finish the task as fast as possible\n",
        "* +20 for delivering passenger\n",
        "* -10 for doing `pickup` (4) and `dropoff` (5) illegally\n",
        "* No penalty for illegal move (the taxi will remain at the same tile)"
      ]
    },
    {
      "cell_type": "code",
      "execution_count": null,
      "metadata": {
        "colab": {
          "base_uri": "https://localhost:8080/"
        },
        "id": "p0OwW1Glja1v",
        "outputId": "46a82413-8978-4b69-9877-c8d4989321f4"
      },
      "outputs": [
        {
          "output_type": "stream",
          "name": "stdout",
          "text": [
            "State: 251\n",
            "Action: 0, Next state: 351, Reward: -1\n"
          ]
        }
      ],
      "source": [
        "print(f'State: {env.reset()}')\n",
        "next_tuple = env.step(0)\n",
        "print(f'Action: 0, Next state: {next_tuple[0]}, Reward: {next_tuple[1]}')"
      ]
    },
    {
      "cell_type": "code",
      "execution_count": null,
      "metadata": {
        "colab": {
          "base_uri": "https://localhost:8080/"
        },
        "id": "ieDnoH84ja1v",
        "outputId": "ca2b2593-9aa9-4590-e6d3-4a21e6556791"
      },
      "outputs": [
        {
          "output_type": "execute_result",
          "data": {
            "text/plain": [
              "(451, -1, False, {'prob': 1.0})"
            ]
          },
          "metadata": {},
          "execution_count": 12
        }
      ],
      "source": [
        "env.step(0)"
      ]
    },
    {
      "cell_type": "markdown",
      "metadata": {
        "id": "xo2Jf-Pmja1w"
      },
      "source": [
        "### Rendering"
      ]
    },
    {
      "cell_type": "markdown",
      "metadata": {
        "id": "igblYmVhja1w"
      },
      "source": [
        "- blue: passenger\n",
        "- magenta: destination\n",
        "- yellow: empty taxi\n",
        "- green: full taxi\n",
        "- other letters: locations"
      ]
    },
    {
      "cell_type": "code",
      "execution_count": null,
      "metadata": {
        "colab": {
          "base_uri": "https://localhost:8080/"
        },
        "id": "8lJJriCqja1w",
        "outputId": "d5249be3-2c64-4e36-c39d-b62cca048c09"
      },
      "outputs": [
        {
          "output_type": "stream",
          "name": "stdout",
          "text": [
            "+---------+\n",
            "|R: | : :G|\n",
            "| : | : : |\n",
            "| : : : : |\n",
            "| | : | : |\n",
            "|\u001b[34;1mY\u001b[0m| :\u001b[43m \u001b[0m|\u001b[35mB\u001b[0m: |\n",
            "+---------+\n",
            "  (South)\n"
          ]
        }
      ],
      "source": [
        "env.render(mode = 'human')"
      ]
    },
    {
      "cell_type": "code",
      "execution_count": null,
      "metadata": {
        "id": "2JK0gCxgja1x"
      },
      "outputs": [],
      "source": [
        "env = gym.make('Taxi-v3').env"
      ]
    },
    {
      "cell_type": "code",
      "execution_count": null,
      "metadata": {
        "id": "8GLeYTmMja1x"
      },
      "outputs": [],
      "source": [
        "frames = []\n",
        "illegal_moves = 0\n",
        "illegal_others = 0\n",
        "cumu_reward = 0\n",
        "\n",
        "#get initial state\n",
        "state = env.reset()\n",
        "\n",
        "while True:\n",
        "    #random action\n",
        "    action = env.action_space.sample()\n",
        "    \n",
        "    #step the environment to get (next_state, reward, done, info)\n",
        "    next_state,reward,done,info =  env.step(action)\n",
        "    \n",
        "    #keep records\n",
        "    if state==next_state: illegal_moves+=1\n",
        "    if reward==-10: illegal_others+=1\n",
        "    cumu_reward+=reward\n",
        "    frames.append({\n",
        "        'frame': env.render(mode='ansi'),\n",
        "        'state': state,\n",
        "        'action': action,\n",
        "        'reward': reward,\n",
        "        'cumulative_reward': cumu_reward,\n",
        "        'illegal_moves': illegal_moves,\n",
        "        'illegal_others': illegal_others\n",
        "        })\n",
        "    \n",
        "    #set current state to next state\n",
        "    state = next_state\n",
        "    \n",
        "    #stop game if done; there's a bug with taxi-v2 that cuts your game over if you have not solved it in 200 timesteps\n",
        "    if done: break\n",
        "#     if reward==20: break"
      ]
    },
    {
      "cell_type": "code",
      "execution_count": null,
      "metadata": {
        "id": "FTWl_-goja1x"
      },
      "outputs": [],
      "source": [
        "from IPython.display import clear_output\n",
        "import time\n",
        "\n",
        "def print_frames(frames,wait_time=0.2):\n",
        "    for i, frame in enumerate(frames):\n",
        "        clear_output(wait=True)\n",
        "        # print(frame['frame'].getvalue())\n",
        "        print(frame['frame'])\n",
        "        print(f\"Timestep: {i + 1}\")\n",
        "        print(f\"State: {frame['state']}\")\n",
        "        print(f\"Action: {frame['action']}\")\n",
        "        print(f\"Reward: {frame['reward']}\")\n",
        "        print(f\"Cumulative Reward: {frame['cumulative_reward']}\")\n",
        "        print(f\"Illegal Moves: {frame['illegal_moves']}\")\n",
        "        print(f\"Illegal Others: {frame['illegal_others']}\")\n",
        "        time.sleep(wait_time)"
      ]
    },
    {
      "cell_type": "code",
      "execution_count": null,
      "metadata": {
        "colab": {
          "base_uri": "https://localhost:8080/"
        },
        "id": "TvPJU8j_ja1y",
        "outputId": "ad6c15e0-394e-4a93-efe5-c2cd0de7226e"
      },
      "outputs": [
        {
          "output_type": "execute_result",
          "data": {
            "text/plain": [
              "12103"
            ]
          },
          "metadata": {},
          "execution_count": 17
        }
      ],
      "source": [
        "len(frames)"
      ]
    },
    {
      "cell_type": "code",
      "execution_count": null,
      "metadata": {
        "colab": {
          "base_uri": "https://localhost:8080/",
          "height": 554
        },
        "id": "yjsWGMHuja1y",
        "outputId": "1eb44578-2585-46ad-8a7d-411db349f0b1"
      },
      "outputs": [
        {
          "output_type": "stream",
          "name": "stdout",
          "text": [
            "+---------+\n",
            "|R: | : :\u001b[34;1mG\u001b[0m|\n",
            "| :\u001b[43m \u001b[0m| : : |\n",
            "| : : : : |\n",
            "| | : | : |\n",
            "|Y| : |\u001b[35mB\u001b[0m: |\n",
            "+---------+\n",
            "  (North)\n",
            "\n",
            "Timestep: 170\n",
            "State: 227\n",
            "Action: 1\n",
            "Reward: -1\n",
            "Cumulative Reward: -638\n",
            "Illegal Moves: 77\n",
            "Illegal Others: 52\n"
          ]
        },
        {
          "output_type": "error",
          "ename": "KeyboardInterrupt",
          "evalue": "ignored",
          "traceback": [
            "\u001b[0;31m---------------------------------------------------------------------------\u001b[0m",
            "\u001b[0;31mKeyboardInterrupt\u001b[0m                         Traceback (most recent call last)",
            "\u001b[0;32m<ipython-input-18-4c48264c4119>\u001b[0m in \u001b[0;36m<module>\u001b[0;34m()\u001b[0m\n\u001b[0;32m----> 1\u001b[0;31m \u001b[0mprint_frames\u001b[0m\u001b[0;34m(\u001b[0m\u001b[0mframes\u001b[0m\u001b[0;34m[\u001b[0m\u001b[0;34m:\u001b[0m\u001b[0;36m200\u001b[0m\u001b[0;34m]\u001b[0m\u001b[0;34m)\u001b[0m\u001b[0;34m\u001b[0m\u001b[0;34m\u001b[0m\u001b[0m\n\u001b[0m",
            "\u001b[0;32m<ipython-input-16-d4f5b6b1f84f>\u001b[0m in \u001b[0;36mprint_frames\u001b[0;34m(frames, wait_time)\u001b[0m\n\u001b[1;32m     14\u001b[0m         \u001b[0mprint\u001b[0m\u001b[0;34m(\u001b[0m\u001b[0;34mf\"Illegal Moves: {frame['illegal_moves']}\"\u001b[0m\u001b[0;34m)\u001b[0m\u001b[0;34m\u001b[0m\u001b[0;34m\u001b[0m\u001b[0m\n\u001b[1;32m     15\u001b[0m         \u001b[0mprint\u001b[0m\u001b[0;34m(\u001b[0m\u001b[0;34mf\"Illegal Others: {frame['illegal_others']}\"\u001b[0m\u001b[0;34m)\u001b[0m\u001b[0;34m\u001b[0m\u001b[0;34m\u001b[0m\u001b[0m\n\u001b[0;32m---> 16\u001b[0;31m         \u001b[0mtime\u001b[0m\u001b[0;34m.\u001b[0m\u001b[0msleep\u001b[0m\u001b[0;34m(\u001b[0m\u001b[0mwait_time\u001b[0m\u001b[0;34m)\u001b[0m\u001b[0;34m\u001b[0m\u001b[0;34m\u001b[0m\u001b[0m\n\u001b[0m",
            "\u001b[0;31mKeyboardInterrupt\u001b[0m: "
          ]
        }
      ],
      "source": [
        "print_frames(frames[:200])"
      ]
    },
    {
      "cell_type": "markdown",
      "metadata": {
        "id": "wst8MYS0ja10"
      },
      "source": [
        "### Human Play"
      ]
    },
    {
      "cell_type": "markdown",
      "metadata": {
        "id": "kNK_apyFja10"
      },
      "source": [
        "Play a couple of rounds with your own natural neural networks to get a hang of the environment."
      ]
    },
    {
      "cell_type": "code",
      "execution_count": null,
      "metadata": {
        "colab": {
          "base_uri": "https://localhost:8080/"
        },
        "id": "Fone_aB8ja11",
        "outputId": "e10091d8-6abf-40ac-9114-b72b8797ceaa"
      },
      "outputs": [
        {
          "name": "stdout",
          "output_type": "stream",
          "text": [
            "+---------+\n",
            "|R: | : :\u001b[35m\u001b[34;1m\u001b[43mG\u001b[0m\u001b[0m\u001b[0m|\n",
            "| : | : : |\n",
            "| : : : : |\n",
            "| | : | : |\n",
            "|Y| : |B: |\n",
            "+---------+\n",
            "  (Dropoff)\n",
            "Reward: 20\n",
            "Cumulative Reward: 3\n"
          ]
        }
      ],
      "source": [
        "state = env.reset()\n",
        "env.render()\n",
        "\n",
        "cumu_reward = 0\n",
        "\n",
        "while True:\n",
        "    action = int(float(input('Choose action: ')))\n",
        "    state, reward, done, info = env.step(action)\n",
        "    cumu_reward+=reward\n",
        "    clear_output(wait=False)\n",
        "    env.render()\n",
        "    print(f'Reward: {reward}')\n",
        "    print(f'Cumulative Reward: {cumu_reward}')\n",
        "    if reward==20: break"
      ]
    },
    {
      "cell_type": "markdown",
      "metadata": {
        "id": "74irLSTija11"
      },
      "source": [
        "- 0: Down\n",
        "- 1: Up\n",
        "- 2: Right\n",
        "- 3: Left\n",
        "- 4: Pickup\n",
        "- 5: Dropoff"
      ]
    },
    {
      "cell_type": "markdown",
      "metadata": {
        "id": "o0mvvSBjja13"
      },
      "source": [
        "### Computer Play"
      ]
    },
    {
      "cell_type": "markdown",
      "metadata": {
        "id": "nDX2yvJyja13"
      },
      "source": [
        "Our benchmark will be the final cumulative reward, from now on called `score`, at the end of an episode over time. For instance, when we do 1,000 episodes, as our agent becomes smarter, the cumulative rewards should get better and better. OpenAI uses 100-episode average score as their benchmark for \"solving\" the environment. **The solving score for this environment is 8.5.**\n",
        "\n",
        "**Concept Assignment** Why is it a bad idea to use Monte Carlo method for this environment?"
      ]
    },
    {
      "cell_type": "code",
      "execution_count": null,
      "metadata": {
        "colab": {
          "base_uri": "https://localhost:8080/"
        },
        "id": "cJA8kubqja14",
        "outputId": "184a8851-2f58-41f3-d634-65239709dcd7"
      },
      "outputs": [
        {
          "output_type": "stream",
          "name": "stderr",
          "text": [
            "100%|██████████| 200/200 [00:11<00:00, 17.87it/s]\n"
          ]
        }
      ],
      "source": [
        "scores = []\n",
        "ts = []\n",
        "illegal_moves = []\n",
        "illegal_others = []\n",
        "moving_scores = []\n",
        "moving_nb = 100\n",
        "solved_score = 8.5\n",
        "start_time = datetime.now()\n",
        "\n",
        "for i in trange(200):\n",
        "    #for the record\n",
        "    score = 0\n",
        "    t= 0\n",
        "    illegal_move = 0\n",
        "    illegal_other = 0\n",
        "    \n",
        "    #initiate state\n",
        "    state = env.reset()\n",
        "    while True:\n",
        "        \n",
        "        #get action\n",
        "        action = env.action_space.sample()\n",
        "        \n",
        "        #step environment\n",
        "        next_state, reward, done, info = env.step(action)\n",
        "        \n",
        "        #records\n",
        "        score+=reward\n",
        "        t+=1\n",
        "        if state==next_state: illegal_move+=1\n",
        "        if reward==-10: illegal_other+=1\n",
        "        \n",
        "        #move to next state\n",
        "        state = next_state\n",
        "        \n",
        "        #end if drop off at destination\n",
        "        if reward==20: break\n",
        "            \n",
        "    #record\n",
        "    scores.append(score)\n",
        "    ts.append(t)\n",
        "    illegal_moves.append(illegal_move)\n",
        "    illegal_others.append(illegal_other)\n",
        "    \n",
        "    if i > moving_nb:\n",
        "        moving_score = np.mean(scores[i-moving_nb:i])\n",
        "        moving_scores.append(moving_score)\n",
        "    else:\n",
        "        moving_scores.append(0)\n",
        "        \n",
        "    #break if solved\n",
        "    if moving_scores[-1] > solved_score: \n",
        "        print(f'Solved at Play {i}: {datetime.now() - start_time} Moving average: {moving_scores[-1]}')\n",
        "        break"
      ]
    },
    {
      "cell_type": "code",
      "execution_count": null,
      "metadata": {
        "colab": {
          "base_uri": "https://localhost:8080/",
          "height": 284
        },
        "id": "07Hu0q5Oja14",
        "outputId": "f7d0f9f2-3acd-469c-deed-ddebbc82addc"
      },
      "outputs": [
        {
          "output_type": "stream",
          "name": "stdout",
          "text": [
            "100-episode average score: -11157.0\n"
          ]
        },
        {
          "output_type": "display_data",
          "data": {
            "text/plain": [
              "<Figure size 432x288 with 1 Axes>"
            ],
            "image/png": "[encoded data removed]"
          },
          "metadata": {
            "needs_background": "light"
          }
        }
      ],
      "source": [
        "plt.plot(scores)\n",
        "plt.plot(moving_scores)\n",
        "print(f'100-episode average score: {moving_scores[-1]}')"
      ]
    },
    {
      "cell_type": "code",
      "execution_count": null,
      "metadata": {
        "colab": {
          "base_uri": "https://localhost:8080/",
          "height": 284
        },
        "id": "IgIQ9rG1ja15",
        "outputId": "b5091c98-4741-4d3b-fe3e-8f07a640172a"
      },
      "outputs": [
        {
          "output_type": "stream",
          "name": "stdout",
          "text": [
            "100-episode average timesteps: 2593.57\n"
          ]
        },
        {
          "output_type": "display_data",
          "data": {
            "text/plain": [
              "<Figure size 432x288 with 1 Axes>"
            ],
            "image/png": "[encoded data removed]"
          },
          "metadata": {
            "needs_background": "light"
          }
        }
      ],
      "source": [
        "plt.plot(ts)\n",
        "print(f'100-episode average timesteps: {np.mean(ts[:-100])}')"
      ]
    },
    {
      "cell_type": "code",
      "execution_count": null,
      "metadata": {
        "colab": {
          "base_uri": "https://localhost:8080/",
          "height": 286
        },
        "id": "6Tsiq5lwja15",
        "outputId": "bf5d762b-e41e-4402-8134-d5be93739106"
      },
      "outputs": [
        {
          "output_type": "stream",
          "name": "stdout",
          "text": [
            "Illegal moves: 3293; Illegal drop-offs/pickups: 2019\n"
          ]
        },
        {
          "output_type": "display_data",
          "data": {
            "text/plain": [
              "<Figure size 432x288 with 1 Axes>"
            ],
            "image/png": "[encoded data removed]"
          },
          "metadata": {
            "needs_background": "light"
          }
        }
      ],
      "source": [
        "plt.plot(illegal_moves)\n",
        "plt.plot(illegal_others)\n",
        "print(f'Illegal moves: {illegal_moves[-1]}; Illegal drop-offs/pickups: {illegal_others[-1]}')"
      ]
    },
    {
      "cell_type": "markdown",
      "metadata": {
        "id": "z4p8VV8wja15"
      },
      "source": [
        "## What Does A TD Agent do?"
      ]
    },
    {
      "cell_type": "markdown",
      "metadata": {
        "id": "mNIDXQYIja15"
      },
      "source": [
        "SARSA is the most basic of temporal difference learning. It got its name from the tuples we used for the learning:\n",
        "\n",
        "$$S_0 \\rightarrow A_0 \\rightarrow R_1 \\rightarrow S_1 \\rightarrow A_1 \\rightarrow R_2 \\rightarrow S_2 \\rightarrow ... \\rightarrow S_{t-1} \\rightarrow A_{t-1} \\rightarrow R_t \\rightarrow S_{t}$$\n",
        "\n",
        "Remember in Monte Carlo, you estimate the action values by:\n",
        "\n",
        "$$G_t = R_{t} + \\gamma R_{t+1} + ... $$\n",
        "\n",
        "$$Q(s_t,a_t) = \\frac{\\sum_{i=1}^{N(s_t,a_t)} G_i}{N(s_t,a_t)} = E[G(s_t,a_t)]$$\n",
        "\n",
        "where:\n",
        "* $G_t$ is discounted rewards\n",
        "* $R_t$ is the reward for each time step\n",
        "* $Q(s_t,a_t)$ is the action value for that state-action pair\n",
        "* $N(s_t,a_t)$ is the number of time we have seen that state-action pair\n",
        "\n",
        "We need to run the entire episode before updating Q because we need to calculate:\n",
        "\n",
        "$$G_t = R_{t} + \\gamma R_{t+1} + \\gamma^2 R_{t+2} + \\gamma^3 R_{t+3} + ... $$\n",
        "\n",
        "But actually\n",
        "\n",
        "$$G_{t+1} = R_{t+1} + \\gamma R_{t+2} + \\gamma^2 R_{t+3} + ...$$\n",
        "\n",
        "$$G_t = R_t + \\gamma (R_{t+1} + \\gamma R_{t+2} + \\gamma^2 R_{t+3} + ...) = R_t + \\gamma (G_{t+1}) = R_{t+1} + \\gamma Q(s_{t+1},a_{t+1})$$\n",
        "\n",
        "And since action value $Q(s,a)$ is **expected** discounted rewards, we can substitute $Q(s_{t+1},a_{t+1})$ for $G_{t+1}$. And with each time step, we update the action values as:\n",
        "\n",
        "$$Q(s_t,a_t) = Q(s_t,a_t) + \\alpha (R_{t+1} + \\gamma Q(s_{t+1},a_{t+1}) - Q(s_t,a_t))$$\n",
        "\n",
        "where $\\alpha$ is the learning rate"
      ]
    },
    {
      "cell_type": "code",
      "execution_count": null,
      "metadata": {
        "id": "KoGNZkhWja16"
      },
      "outputs": [],
      "source": [
        "import numpy as np\n",
        "from collections import defaultdict\n",
        "import sys\n",
        "import random\n",
        "from tqdm import trange\n",
        "\n",
        "class TaxiAgent:\n",
        "    def __init__(self, env, gamma = 0.8, alpha = 1e-1,\n",
        "                 start_epsilon = 1, end_epsilon = 1e-2, epsilon_decay = 0.999):\n",
        "        \n",
        "        self.env = env\n",
        "        self.n_action = self.env.action_space.n\n",
        "        self.gamma = gamma\n",
        "        self.alpha = alpha\n",
        "        \n",
        "        #action values\n",
        "        self.q = defaultdict(lambda: np.zeros(self.n_action)) #action value\n",
        "        \n",
        "        #epsilon greedy parameters\n",
        "        self.start_epsilon = start_epsilon\n",
        "        self.end_epsilon = end_epsilon\n",
        "        self.epsilon_decay = epsilon_decay\n",
        "\n",
        "    #get epsilon\n",
        "    def get_epsilon(self,n_episode):\n",
        "        epsilon = max(self.start_epsilon * (self.epsilon_decay ** n_episode), self.end_epsilon)\n",
        "        return(epsilon)\n",
        "    \n",
        "    #select action based on epsilon greedy\n",
        "    def select_action(self,state,epsilon):\n",
        "        #implicit policy; if we have action values for that state, choose the largest one, else random\n",
        "        best_action = np.argmax(self.q[state]) if state in self.q else self.env.action_space.sample()\n",
        "        if random.random() > epsilon:\n",
        "            action = best_action\n",
        "        else:\n",
        "             action = self.env.action_space.sample()\n",
        "        return(action)\n",
        "\n",
        "    def select_greedy_action(self,state):\n",
        "      best_action = np.argmax(self.q[state]) if state in self.q else self.env.action_space.sample()\n",
        "      return(best_action)\n",
        "    \n",
        "    def sarsa_update(self, state, action, reward, next_state, n_episode):\n",
        "        #get next action\n",
        "        next_action = self.select_action(next_state, self.get_epsilon(n_episode)) \n",
        "        #get new q\n",
        "        new_q = reward + (self.gamma * self.q[next_state][next_action])\n",
        "        #calculate update equation\n",
        "        self.q[state][action] = self.q[state][action] + (self.alpha * (new_q - self.q[state][action]))\n",
        "        \n",
        "    def sarsa_max_update(self, state, action, reward, next_state):\n",
        "        #get best next action\n",
        "        best_action = self.select_greedy_action(next_state,)\n",
        "        #get new q\n",
        "        new_q = reward + (self.gamma * self.q[next_state][best_action])\n",
        "        #calculate update equation\n",
        "        self.q[state][action] = self.q[state][action] + (self.alpha * (new_q - self.q[state][action]))\n",
        "        \n",
        "    def sarsa_expected_update(self, state, action, reward, next_state, n_episode):\n",
        "        #get next action\n",
        "        next_action = self.select_action(next_state, self.get_epsilon(n_episode)) \n",
        "        #get current epsilon\n",
        "        eps = self.get_epsilon(n_episode)\n",
        "        #get q value of random portion\n",
        "        random_q = eps * np.sum((1/self.n_action) * self.q[next_state])\n",
        "        #get q value of best action\n",
        "        best_q = (1-eps) * self.q[next_state][next_action]\n",
        "        #get new q\n",
        "        new_q = reward + self.gamma * (random_q+best_q)\n",
        "        #calculate update equation\n",
        "        self.q[state][action] = self.q[state][action] + (self.alpha * (new_q - self.q[state][action]))"
      ]
    },
    {
      "cell_type": "markdown",
      "metadata": {
        "id": "9ipeOgBija17"
      },
      "source": [
        "## SARSA\n",
        "\n",
        "For every **timestep**\n",
        "* **Step 1** Given state $s_t$, choose an action $a_t$ using epsilon greedy policy\n",
        "* **Step 2** Take that action and observe next state ($s_{t+1}$) and reward ($r_{t+1}$)\n",
        "* **Step 3** Update the action value $Q(s_t,a_t)$ using the equation above"
      ]
    },
    {
      "cell_type": "code",
      "execution_count": null,
      "metadata": {
        "id": "VZkreCcqja17"
      },
      "outputs": [],
      "source": [
        "a = TaxiAgent(env, gamma = 0.8, alpha = 1e-1,\n",
        "                 start_epsilon = 1, end_epsilon = 1e-2, epsilon_decay = 0.999)"
      ]
    },
    {
      "cell_type": "code",
      "execution_count": null,
      "metadata": {
        "colab": {
          "base_uri": "https://localhost:8080/"
        },
        "id": "lIAj2MIpja17",
        "outputId": "08728b13-8ba6-4dea-b2d8-cfbe6eea56b5"
      },
      "outputs": [
        {
          "output_type": "stream",
          "name": "stderr",
          "text": [
            "100%|██████████| 100000/100000 [01:32<00:00, 1084.48it/s]\n"
          ]
        }
      ],
      "source": [
        "scores = []\n",
        "ts = []\n",
        "illegal_moves = []\n",
        "illegal_others = []\n",
        "moving_scores = []\n",
        "\n",
        "moving_nb = 100\n",
        "solved_score = 8.5\n",
        "start_time = datetime.now()\n",
        "\n",
        "for i in trange(100000):\n",
        "    #for the record\n",
        "    score = 0\n",
        "    t= 0\n",
        "    illegal_move = 0\n",
        "    illegal_other = 0\n",
        "    \n",
        "    #initiate state\n",
        "    state = env.reset()\n",
        "    while True:\n",
        "        \n",
        "        #get action\n",
        "        action = a.select_action(state, a.get_epsilon(i))\n",
        "        \n",
        "        #step environment\n",
        "        next_state, reward, done, info = env.step(action)\n",
        "        \n",
        "        #update agent\n",
        "        a.sarsa_update(state, action, reward, next_state, i)\n",
        "        \n",
        "        #records\n",
        "        score+=reward\n",
        "        t+=1\n",
        "        if state==next_state: illegal_move+=1\n",
        "        if reward==-10: illegal_other+=1\n",
        "        \n",
        "        #move to next state\n",
        "        state = next_state\n",
        "        \n",
        "        #end if drop off at destination\n",
        "        if reward==20: break\n",
        "            \n",
        "    #record\n",
        "    scores.append(score)\n",
        "    ts.append(t)\n",
        "    illegal_moves.append(illegal_move)\n",
        "    illegal_others.append(illegal_other)\n",
        "    \n",
        "    if i > moving_nb:\n",
        "        moving_score = np.mean(scores[i-moving_nb:i])\n",
        "        moving_scores.append(moving_score)\n",
        "    else:\n",
        "        moving_scores.append(0)\n",
        "        \n",
        "    #break if solved\n",
        "    if moving_scores[-1] > solved_score: \n",
        "        print(f'Solved at Play {i}: {datetime.now() - start_time} Moving average: {moving_scores[-1]}')\n",
        "        break"
      ]
    },
    {
      "cell_type": "code",
      "execution_count": null,
      "metadata": {
        "id": "ToWqZRS5ja18",
        "colab": {
          "base_uri": "https://localhost:8080/",
          "height": 284
        },
        "outputId": "8fb5f241-8650-4558-dca7-664c1b4dd776"
      },
      "outputs": [
        {
          "output_type": "stream",
          "name": "stdout",
          "text": [
            "100-episode average score: 6.11\n"
          ]
        },
        {
          "output_type": "display_data",
          "data": {
            "text/plain": [
              "<Figure size 432x288 with 1 Axes>"
            ],
            "image/png": "[encoded data removed]"
          },
          "metadata": {
            "needs_background": "light"
          }
        }
      ],
      "source": [
        "plt.plot(moving_scores[:2500])\n",
        "print(f'100-episode average score: {moving_scores[-1]}')"
      ]
    },
    {
      "cell_type": "code",
      "execution_count": null,
      "metadata": {
        "id": "pLtVtcBDja19",
        "colab": {
          "base_uri": "https://localhost:8080/",
          "height": 284
        },
        "outputId": "e3b15ad5-efc5-4ee4-87cd-210038efbbfb"
      },
      "outputs": [
        {
          "output_type": "stream",
          "name": "stdout",
          "text": [
            "100-episode average timesteps: 33.04547547547548\n"
          ]
        },
        {
          "output_type": "display_data",
          "data": {
            "text/plain": [
              "<Figure size 432x288 with 1 Axes>"
            ],
            "image/png": "[encoded data removed]"
          },
          "metadata": {
            "needs_background": "light"
          }
        }
      ],
      "source": [
        "plt.plot(ts)\n",
        "print(f'100-episode average timesteps: {np.mean(ts[:-100])}')"
      ]
    },
    {
      "cell_type": "code",
      "execution_count": null,
      "metadata": {
        "id": "d7ML4QHlja19",
        "colab": {
          "base_uri": "https://localhost:8080/",
          "height": 284
        },
        "outputId": "e1fee85e-d8fb-40d2-b37c-c0bdf75f4feb"
      },
      "outputs": [
        {
          "output_type": "stream",
          "name": "stdout",
          "text": [
            "Illegal moves: 0; Illegal drop-offs/pickups: 0\n"
          ]
        },
        {
          "output_type": "display_data",
          "data": {
            "text/plain": [
              "<Figure size 432x288 with 1 Axes>"
            ],
            "image/png": "[encoded data removed]"
          },
          "metadata": {
            "needs_background": "light"
          }
        }
      ],
      "source": [
        "plt.plot(illegal_moves)\n",
        "plt.plot(illegal_others)\n",
        "print(f'Illegal moves: {illegal_moves[-1]}; Illegal drop-offs/pickups: {illegal_others[-1]}')"
      ]
    },
    {
      "cell_type": "markdown",
      "metadata": {
        "id": "G71FjOCZja19"
      },
      "source": [
        "## Q-learning aka SARSAMAX"
      ]
    },
    {
      "cell_type": "markdown",
      "metadata": {
        "id": "-yEQYkq3ja1-"
      },
      "source": [
        " *Q*-learning or SARSAMAX is perhaps the most well-known RL algorithm due to Deepminds' [Playing Atari with Deep Reinforcement Learning](https://www.cs.toronto.edu/~vmnih/docs/dqn.pdf) paper in 2013. There are some significant contributions made by that paper such as using deep learning as function approximation instead of a dictionary, experience replay, and fixed target for learning. But the principle of the learning remains largely the same as the algorithm we will learn today.\n",
        "\n",
        "For every **timestep**\n",
        "* **Step 1** Given state $s_t$, choose an action $a_t$ using epsilon greedy policy\n",
        "* **Step 2** Update the action value $Q(s_t,a_t)$ using the following equation:\n",
        "\n",
        "$Q(s_t,a_t) = Q(s_t,a_t) + \\alpha (R_{t+1} + \\gamma max_{a}Q(s_{t+1},a) - Q(s_t,a_t))$\n",
        "\n",
        "where $max_{a}Q(s_{t+1},a)$ is the highest action value given state $s_{t+1}$. \n",
        "\n",
        "This is very similar to SARSA except for the fact that we will always choose the best action value as opposed to epsilon-greedy action selection of SARSA. For this reason, SARSA is called **on-policy** and Q-learning **off-policy**."
      ]
    },
    {
      "cell_type": "code",
      "execution_count": null,
      "metadata": {
        "id": "2V0TIjM7ja1-"
      },
      "outputs": [],
      "source": [
        "a = TaxiAgent(env, gamma = 0.8, alpha = 1e-1,\n",
        "                 start_epsilon = 1, end_epsilon = 1e-2, epsilon_decay = 0.999)"
      ]
    },
    {
      "cell_type": "code",
      "execution_count": null,
      "metadata": {
        "id": "LsBc8_ufja1-",
        "colab": {
          "base_uri": "https://localhost:8080/"
        },
        "outputId": "0002edca-418f-433b-a1cd-b89aa5265138"
      },
      "outputs": [
        {
          "output_type": "stream",
          "name": "stdout",
          "text": [
            "Solved at Play 7144: 0:00:07.295930 Moving average: 8.51\n"
          ]
        }
      ],
      "source": [
        "scores = []\n",
        "ts = []\n",
        "illegal_moves = []\n",
        "illegal_others = []\n",
        "moving_scores = []\n",
        "moving_nb = 100\n",
        "solved_score = 8.5\n",
        "start_time = datetime.now()\n",
        "\n",
        "for i in range(100000):\n",
        "    #for the record\n",
        "    score = 0\n",
        "    t= 0\n",
        "    illegal_move = 0\n",
        "    illegal_other = 0\n",
        "    \n",
        "    #initiate state\n",
        "    state = env.reset()\n",
        "    while True:\n",
        "        \n",
        "        #get action\n",
        "        action = a.select_action(state, a.get_epsilon(i))\n",
        "        \n",
        "        #step environment\n",
        "        next_state, reward, done, info = env.step(action)\n",
        "        \n",
        "        #update agent\n",
        "        a.sarsa_max_update(state, action, reward, next_state)\n",
        "        \n",
        "        #records\n",
        "        score+=reward\n",
        "        t+=1\n",
        "        if state==next_state: illegal_move+=1\n",
        "        if reward==-10: illegal_other+=1\n",
        "        \n",
        "        #move to next state\n",
        "        state = next_state\n",
        "        \n",
        "        #end if drop off at destination\n",
        "        if reward==20: break\n",
        "            \n",
        "    #record\n",
        "    scores.append(score)\n",
        "    ts.append(t)\n",
        "    illegal_moves.append(illegal_move)\n",
        "    illegal_others.append(illegal_other)\n",
        "    \n",
        "    if i > moving_nb:\n",
        "        moving_score = np.mean(scores[i-moving_nb:i])\n",
        "        moving_scores.append(moving_score)\n",
        "    else:\n",
        "        moving_scores.append(0)\n",
        "        \n",
        "    #break if solved\n",
        "    if moving_scores[-1] > solved_score: \n",
        "        print(f'Solved at Play {i}: {datetime.now() - start_time} Moving average: {moving_scores[-1]}')\n",
        "        break"
      ]
    },
    {
      "cell_type": "code",
      "execution_count": null,
      "metadata": {
        "id": "Su5K_C6wja1_",
        "colab": {
          "base_uri": "https://localhost:8080/",
          "height": 284
        },
        "outputId": "2760015d-dfb5-4538-8aa2-3569ef77a285"
      },
      "outputs": [
        {
          "output_type": "stream",
          "name": "stdout",
          "text": [
            "100-episode average score: 8.51\n"
          ]
        },
        {
          "output_type": "display_data",
          "data": {
            "text/plain": [
              "<Figure size 432x288 with 1 Axes>"
            ],
            "image/png": "[encoded data removed]"
          },
          "metadata": {
            "needs_background": "light"
          }
        }
      ],
      "source": [
        "plt.plot(scores)\n",
        "plt.plot(moving_scores)\n",
        "print(f'100-episode average score: {moving_scores[-1]}')"
      ]
    },
    {
      "cell_type": "code",
      "execution_count": null,
      "metadata": {
        "id": "Mb52r57uja2A",
        "colab": {
          "base_uri": "https://localhost:8080/",
          "height": 284
        },
        "outputId": "d0ce3cb7-00ff-4f09-c9de-cd11a0c90e43"
      },
      "outputs": [
        {
          "output_type": "stream",
          "name": "stdout",
          "text": [
            "100-episode average timesteps: 43.24556422995032\n"
          ]
        },
        {
          "output_type": "display_data",
          "data": {
            "text/plain": [
              "<Figure size 432x288 with 1 Axes>"
            ],
            "image/png": "[encoded data removed]"
          },
          "metadata": {
            "needs_background": "light"
          }
        }
      ],
      "source": [
        "plt.plot(ts)\n",
        "print(f'100-episode average timesteps: {np.mean(ts[:-100])}')"
      ]
    },
    {
      "cell_type": "code",
      "execution_count": null,
      "metadata": {
        "id": "BBQQ3ymEja2B",
        "colab": {
          "base_uri": "https://localhost:8080/",
          "height": 284
        },
        "outputId": "19ff5f2b-488b-495e-b998-45869abfe4c3"
      },
      "outputs": [
        {
          "output_type": "stream",
          "name": "stdout",
          "text": [
            "Illegal moves: 0; Illegal drop-offs/pickups: 0\n"
          ]
        },
        {
          "output_type": "display_data",
          "data": {
            "text/plain": [
              "<Figure size 432x288 with 1 Axes>"
            ],
            "image/png": "[encoded data removed]"
          },
          "metadata": {
            "needs_background": "light"
          }
        }
      ],
      "source": [
        "plt.plot(illegal_moves)\n",
        "plt.plot(illegal_others)\n",
        "print(f'Illegal moves: {illegal_moves[-1]}; Illegal drop-offs/pickups: {illegal_others[-1]}')"
      ]
    },
    {
      "cell_type": "markdown",
      "metadata": {
        "id": "yRQq-aFqja2D"
      },
      "source": [
        "## See A Smart Agent Play"
      ]
    },
    {
      "cell_type": "code",
      "execution_count": null,
      "metadata": {
        "id": "bxM02XFkja2D"
      },
      "outputs": [],
      "source": [
        "frames = []\n",
        "illegal_moves = 0\n",
        "illegal_others = 0\n",
        "cumu_reward = 0\n",
        "\n",
        "#get initial state\n",
        "state = env.reset()\n",
        "\n",
        "while True:\n",
        "    #best action\n",
        "    action = a.select_action(state, a.get_epsilon(1e6))\n",
        "    \n",
        "    #step the environment to get (next_state, reward, done, info)\n",
        "    next_state,reward,done,info =  env.step(action)\n",
        "    \n",
        "    #keep records\n",
        "    if state==next_state: illegal_moves+=1\n",
        "    if reward==-10: illegal_others+=1\n",
        "    cumu_reward+=reward\n",
        "    frames.append({\n",
        "        'frame': env.render(mode='ansi'),\n",
        "        'state': state,\n",
        "        'action': action,\n",
        "        'reward': reward,\n",
        "        'cumulative_reward': cumu_reward,\n",
        "        'illegal_moves': illegal_moves,\n",
        "        'illegal_others': illegal_others\n",
        "        })\n",
        "    \n",
        "    #set current state to next state\n",
        "    state = next_state\n",
        "    \n",
        "    #stop game if done; there's a bug with taxi-v2 that cuts your game over if you have not solved it in 200 timesteps\n",
        "    if reward==20: break"
      ]
    },
    {
      "cell_type": "code",
      "execution_count": null,
      "metadata": {
        "id": "s0x-eFWGja2D",
        "colab": {
          "base_uri": "https://localhost:8080/"
        },
        "outputId": "9d5a4bc7-f8ca-4605-fd7b-75c3dd9c8ce6"
      },
      "outputs": [
        {
          "output_type": "execute_result",
          "data": {
            "text/plain": [
              "15"
            ]
          },
          "metadata": {},
          "execution_count": 35
        }
      ],
      "source": [
        "len(frames)"
      ]
    },
    {
      "cell_type": "code",
      "execution_count": null,
      "metadata": {
        "id": "BLIPii5pja2D",
        "colab": {
          "base_uri": "https://localhost:8080/"
        },
        "outputId": "56eaf66a-f5e1-433f-bf21-f0d1314d52c9"
      },
      "outputs": [
        {
          "output_type": "stream",
          "name": "stdout",
          "text": [
            "+---------+\n",
            "|R: | : :G|\n",
            "| : | : : |\n",
            "| : : : : |\n",
            "| | : | : |\n",
            "|Y| : |\u001b[35m\u001b[34;1m\u001b[43mB\u001b[0m\u001b[0m\u001b[0m: |\n",
            "+---------+\n",
            "  (Dropoff)\n",
            "\n",
            "Timestep: 15\n",
            "State: 479\n",
            "Action: 5\n",
            "Reward: 20\n",
            "Cumulative Reward: 6\n",
            "Illegal Moves: 0\n",
            "Illegal Others: 0\n"
          ]
        }
      ],
      "source": [
        "print_frames(frames)"
      ]
    },
    {
      "cell_type": "code",
      "execution_count": null,
      "metadata": {
        "id": "iPs3q4xltrCq"
      },
      "outputs": [],
      "source": [
        ""
      ]
    }
  ],
  "metadata": {
    "colab": {
      "collapsed_sections": [],
      "name": "rl_workshop.ipynb",
      "provenance": []
    },
    "kernelspec": {
      "display_name": "Python 3",
      "language": "python",
      "name": "python3"
    },
    "language_info": {
      "codemirror_mode": {
        "name": "ipython",
        "version": 3
      },
      "file_extension": ".py",
      "mimetype": "text/x-python",
      "name": "python",
      "nbconvert_exporter": "python",
      "pygments_lexer": "ipython3",
      "version": "3.6.6"
    }
  },
  "nbformat": 4,
  "nbformat_minor": 0
}
