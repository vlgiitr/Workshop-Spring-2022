{
 "cells": [
  {
   "cell_type": "code",
   "execution_count": 122,
   "metadata": {},
   "outputs": [],
   "source": [
    "%matplotlib inline\n",
    "\n",
    "from collections import deque,namedtuple\n",
    "import random\n",
    "import gym\n",
    "import numpy as np\n",
    "import tensorflow as tf\n",
    "from tensorflow.keras import models, layers, optimizers\n",
    "from tqdm import tqdm_notebook\n",
    "\n",
    "import warnings\n",
    "warnings.filterwarnings('ignore')\n",
    "\n",
    "Transition = namedtuple('Transition', ('state', 'action', 'reward', 'next_state','done'))\n",
    "class VanillaMemory:\n",
    "    def __init__(self, memory_size):\n",
    "        self.memory_size = memory_size\n",
    "        self.memory = deque(maxlen=memory_size) \n",
    "    def add(self, *args):\n",
    "        t = Transition(*args)\n",
    "        self.memory.append(t)\n",
    "    def sample(self, batch_size):\n",
    "        ts = random.sample(self.memory, batch_size)\n",
    "        states = np.vstack([t.state for t in ts])\n",
    "        actions = np.vstack([t.action for t in ts])\n",
    "        rewards = np.vstack([t.reward for t in ts])\n",
    "        next_states = np.vstack([t.next_state for t in ts])\n",
    "        dones = np.vstack([t.done for t in ts]).astype(np.uint8)\n",
    "        return(states,actions,rewards,next_states,dones)\n",
    "        return random.sample(self.memory, batch_size)\n",
    "    def __len__(self):\n",
    "        return(len(self.memory))"
   ]
  },
  {
   "cell_type": "code",
   "execution_count": 123,
   "metadata": {},
   "outputs": [
    {
     "data": {
      "text/plain": [
       "0"
      ]
     },
     "execution_count": 123,
     "metadata": {},
     "output_type": "execute_result"
    }
   ],
   "source": [
    "mem = VanillaMemory(1000)\n",
    "len(mem)"
   ]
  },
  {
   "cell_type": "code",
   "execution_count": 124,
   "metadata": {},
   "outputs": [
    {
     "name": "stdout",
     "output_type": "stream",
     "text": [
      "\u001b[33mWARN: gym.spaces.Box autodetected dtype as <class 'numpy.float32'>. Please provide explicit dtype.\u001b[0m\n",
      "Done in 200 timsteps with score -200.0.\n"
     ]
    }
   ],
   "source": [
    "env = gym.make('MountainCar-v0')\n",
    "state = env.reset()\n",
    "score = 0\n",
    "t=0\n",
    "frames = []\n",
    "while True:\n",
    "    action = np.random.choice([0,1,2])\n",
    "    next_state, reward, done, info = env.step(action)\n",
    "    mem.add(state,action,reward,next_state,done)\n",
    "    \n",
    "    state = next_state\n",
    "    t+=1\n",
    "    score+=reward\n",
    "    if done: break\n",
    "print(f'Done in {t} timsteps with score {score}.')"
   ]
  },
  {
   "cell_type": "code",
   "execution_count": 125,
   "metadata": {},
   "outputs": [
    {
     "data": {
      "text/plain": [
       "array([[0],\n",
       "       [0],\n",
       "       [0],\n",
       "       [0],\n",
       "       [0],\n",
       "       [0],\n",
       "       [0],\n",
       "       [0],\n",
       "       [0],\n",
       "       [0]], dtype=uint8)"
      ]
     },
     "execution_count": 125,
     "metadata": {},
     "output_type": "execute_result"
    }
   ],
   "source": [
    "mem.sample(10)[4]"
   ]
  },
  {
   "cell_type": "code",
   "execution_count": 215,
   "metadata": {},
   "outputs": [],
   "source": [
    "class DQNAgent:\n",
    "    def __init__(self, state_size, action_size, replay_memory,\n",
    "        lr=5e-3, bs = 64, clip=1., nb_hidden = [256],\n",
    "        gamma=0.99, tau= 1e-3, update_interval = 5, update_times = 1, tpe = 200):\n",
    "        \n",
    "        self.state_size = state_size\n",
    "        self.action_size = action_size\n",
    "        self.nb_hidden = nb_hidden\n",
    "        self.lr = lr\n",
    "        self.bs = bs\n",
    "        self.gamma = gamma\n",
    "        self.update_interval = update_interval\n",
    "        self.update_times = update_times\n",
    "        self.tau = tau\n",
    "        self.losses = []\n",
    "        self.tpe = tpe\n",
    "        self.clip = clip\n",
    "\n",
    "        #vanilla\n",
    "        self.network_local = self.create_critic_network()\n",
    "        self.network_target = tf.keras.models.clone_model(self.network_local)\n",
    "        self.network_target.set_weights(self.network_local.get_weights())\n",
    "\n",
    "        # replay memory\n",
    "        self.memory = replay_memory\n",
    "        # count time steps\n",
    "        self.t_step = 0\n",
    "\n",
    "    def vanilla_loss(self, targets, preds):\n",
    "        actions, q_targets = targets[:, 0], targets[:, 1]\n",
    "        seq = tf.cast(tf.range(0, tf.shape(actions)[0]), tf.int32)\n",
    "        actions = tf.cast(actions, tf.int32)\n",
    "        action_idxs = tf.transpose(tf.stack([seq, actions]))\n",
    "        q_expected = tf.gather_nd(preds, action_idxs)\n",
    "        return tf.keras.losses.mse(q_targets, q_expected)\n",
    "        \n",
    "    def create_critic_network(self):\n",
    "        l = [layers.Dense(self.nb_hidden[0], input_dim=self.state_size, activation='relu')]\n",
    "        for h in self.nb_hidden[1:]: l.append(layers.Dense(h, activation='relu'))\n",
    "        l.append(layers.Dense(self.action_size, activation=\"linear\"))\n",
    "        network = models.Sequential(l)\n",
    "        network.compile(loss=self.vanilla_loss,\n",
    "                        optimizer=tf.keras.optimizers.Adam(learning_rate = self.lr, \n",
    "                                                           clipvalue=self.clip))\n",
    "        return network\n",
    "    \n",
    "    def get_eps(self, i, eps_start = 1., eps_end = 0.001, eps_decay = 0.9):\n",
    "        eps = max(eps_start * (eps_decay ** i), eps_end)\n",
    "        return(eps)\n",
    "    \n",
    "    def step(self, state, action, reward, next_state, done):\n",
    "        #add transition to replay memory\n",
    "        self.memory.add(state, action, reward, next_state, done)\n",
    "        \n",
    "        #update target network\n",
    "        self.soft_update()\n",
    "        \n",
    "        # learn every self.t_step\n",
    "        self.t_step += 1\n",
    "        if self.t_step % self.update_interval == 0:\n",
    "            if len(self.memory) > self.bs:\n",
    "                #vanilla\n",
    "                for _ in range(self.update_times):\n",
    "                    transitions = self.memory.sample(self.bs)\n",
    "                    loss = self.learn(transitions)\n",
    "                    self.losses.append(loss)\n",
    "                    \n",
    "    def act(self, state):\n",
    "        eps = self.get_eps(int(self.t_step / self.tpe))\n",
    "        action_values = self.network_local(state[None,:])\n",
    "        #epsilon greedy\n",
    "        if random.random() > eps:\n",
    "            return np.argmax(action_values.numpy())\n",
    "        else:\n",
    "            return random.choice(np.arange(self.action_size))\n",
    "\n",
    "    def learn(self, transitions):\n",
    "        states, actions, rewards, next_states, dones = transitions\n",
    "        q_targets_next = self.network_target(next_states).numpy().max(1)[:,None]\n",
    "        q_targets = rewards + (self.gamma * q_targets_next) * (1 - dones)\n",
    "        loss = self.network_local.train_on_batch(states, np.hstack([actions,q_targets]))\n",
    "        return loss\n",
    "\n",
    "    def hard_update(self):\n",
    "        if self.t_step % 1/self.tau==0:\n",
    "            self.network_target.set_weights(self.network_local.get_weights())\n",
    "     \n",
    "    def soft_update(self):\n",
    "        weights_local = np.array(self.network_local.get_weights())\n",
    "        weights_target = np.array(self.network_target.get_weights())\n",
    "        self.network_target.set_weights(self.tau * weights_local + (1 - self.tau) * weights_target)"
   ]
  },
  {
   "cell_type": "code",
   "execution_count": 216,
   "metadata": {},
   "outputs": [
    {
     "name": "stdout",
     "output_type": "stream",
     "text": [
      "\u001b[33mWARN: gym.spaces.Box autodetected dtype as <class 'numpy.float32'>. Please provide explicit dtype.\u001b[0m\n"
     ]
    }
   ],
   "source": [
    "# env = gym.make('MountainCar-v0')\n",
    "env = gym.make('CartPole-v1')\n",
    "mem = VanillaMemory(int(1e5)) \n",
    "a = DQNAgent(state_size = env.reset().shape[0], \n",
    "             action_size = env.action_space.n, replay_memory = mem) "
   ]
  },
  {
   "cell_type": "code",
   "execution_count": 217,
   "metadata": {},
   "outputs": [
    {
     "data": {
      "application/vnd.jupyter.widget-view+json": {
       "model_id": "b00d94fefb4b40a7b51bd95434c5355f",
       "version_major": 2,
       "version_minor": 0
      },
      "text/plain": [
       "HBox(children=(IntProgress(value=0, max=1000), HTML(value='')))"
      ]
     },
     "metadata": {},
     "output_type": "display_data"
    },
    {
     "name": "stdout",
     "output_type": "stream",
     "text": [
      "Episdoe 99 Moving Average: 17.414141414141415\n",
      "Episdoe 199 Moving Average: 14.78\n",
      "Episdoe 299 Moving Average: 176.83\n",
      "Solved at Play 304: 0:02:08.589982 Moving average: 191.03\n"
     ]
    }
   ],
   "source": [
    "from datetime import datetime\n",
    "\n",
    "scores = []\n",
    "scores_deque = deque(maxlen=100) \n",
    "moving_scores = []\n",
    "start_time = datetime.now()\n",
    "solved_score=190\n",
    "\n",
    "for i in tqdm_notebook(range(1000)):\n",
    "    if (i+1) % 100==0: print(f'Episdoe {i} Moving Average: {np.mean(scores_deque)}')\n",
    "    state = env.reset()\n",
    "    score = 0\n",
    "    t=0\n",
    "    while True:\n",
    "        t+=1\n",
    "        #select action\n",
    "        action = a.act(state)  \n",
    "\n",
    "        #env step\n",
    "        next_state, reward, done, info = env.step(action)   \n",
    "        \n",
    "        #engineer the reward to motive your agent even more\n",
    "        if done: \n",
    "            fake_reward = reward #+ (200-t)/10\n",
    "        else:\n",
    "            fake_reward = reward\n",
    "\n",
    "        #agent step\n",
    "        a.step(state,action,fake_reward,next_state,done)\n",
    "        \n",
    "        #collect score\n",
    "        score += reward\n",
    "        \n",
    "        #go to next state\n",
    "        state = next_state   \n",
    "        \n",
    "        #break if done\n",
    "        if done: break\n",
    "            \n",
    "    #book keeping\n",
    "    scores.append(score)\n",
    "    scores_deque.append(score)\n",
    "    moving_scores.append(np.mean(scores_deque))\n",
    "        \n",
    "    if moving_scores[-1] > solved_score: \n",
    "        print(f'Solved at Play {i}: {datetime.now() - start_time} Moving average: {moving_scores[-1]}')\n",
    "        break"
   ]
  },
  {
   "cell_type": "code",
   "execution_count": 218,
   "metadata": {},
   "outputs": [
    {
     "data": {
      "text/plain": [
       "[<matplotlib.lines.Line2D at 0x7f5196e7d9b0>]"
      ]
     },
     "execution_count": 218,
     "metadata": {},
     "output_type": "execute_result"
    },
    {
     "data": {
      "image/png": "[encoded data removed]",
      "text/plain": [
       "<Figure size 432x288 with 1 Axes>"
      ]
     },
     "metadata": {
      "needs_background": "light"
     },
     "output_type": "display_data"
    }
   ],
   "source": [
    "import matplotlib.pyplot as plt\n",
    "plt.plot(scores)\n",
    "plt.plot(moving_scores)"
   ]
  },
  {
   "cell_type": "code",
   "execution_count": 219,
   "metadata": {},
   "outputs": [
    {
     "data": {
      "text/plain": [
       "[<matplotlib.lines.Line2D at 0x7f51971aef28>]"
      ]
     },
     "execution_count": 219,
     "metadata": {},
     "output_type": "execute_result"
    },
    {
     "data": {
      "image/png": "[encoded data removed]",
      "text/plain": [
       "<Figure size 432x288 with 1 Axes>"
      ]
     },
     "metadata": {
      "needs_background": "light"
     },
     "output_type": "display_data"
    }
   ],
   "source": [
    "plt.plot(a.losses)"
   ]
  },
  {
   "cell_type": "code",
   "execution_count": null,
   "metadata": {},
   "outputs": [],
   "source": []
  }
 ],
 "metadata": {
  "kernelspec": {
   "display_name": "Python 3",
   "language": "python",
   "name": "python3"
  },
  "language_info": {
   "codemirror_mode": {
    "name": "ipython",
    "version": 3
   },
   "file_extension": ".py",
   "mimetype": "text/x-python",
   "name": "python",
   "nbconvert_exporter": "python",
   "pygments_lexer": "ipython3",
   "version": "3.6.8"
  }
 },
 "nbformat": 4,
 "nbformat_minor": 2
}
